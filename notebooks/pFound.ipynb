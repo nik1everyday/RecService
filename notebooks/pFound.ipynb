{
 "cells": [
  {
   "cell_type": "markdown",
   "id": "0d6fa9f8",
   "metadata": {
    "id": "0d6fa9f8"
   },
   "source": [
    "# Домашнее задание №2.2"
   ]
  },
  {
   "cell_type": "markdown",
   "id": "2ddf3d2d",
   "metadata": {
    "id": "2ddf3d2d"
   },
   "source": [
    "**Задача** – написать функцию, которая принимает на вход `dataframe` (после `join`), а на выходе дает средний `pFound` по всем query\n",
    "    \n",
    "\n",
    "\n",
    "\n",
    "*   Запрещается использовать циклы `for` для расчет метрики (как полностью, так и ее частей)\n",
    "*   Усложнение, если задача показалась легкой - попробуйте обойтись без `groupby`\n",
    "\n"
   ]
  },
  {
   "cell_type": "markdown",
   "id": "HUA_qCu4HWGi",
   "metadata": {
    "id": "HUA_qCu4HWGi"
   },
   "source": [
    "## Подготовка данных"
   ]
  },
  {
   "cell_type": "code",
   "execution_count": 1,
   "id": "htLDbakmH5qB",
   "metadata": {
    "id": "htLDbakmH5qB"
   },
   "outputs": [],
   "source": [
    "import os\n",
    "import pandas as pd\n",
    "import numpy as np\n",
    "\n",
    "from pathlib import Path\n",
    "from tqdm.auto import tqdm"
   ]
  },
  {
   "cell_type": "code",
   "execution_count": 2,
   "id": "gUeTusK9N-NX",
   "metadata": {
    "id": "gUeTusK9N-NX"
   },
   "outputs": [],
   "source": [
    "PATH = Path('/Users/nikitaborisov/Desktop/yandex_cup')"
   ]
  },
  {
   "cell_type": "code",
   "execution_count": 3,
   "id": "UjHh0DoqPnlL",
   "metadata": {
    "colab": {
     "base_uri": "https://localhost:8080/",
     "height": 407
    },
    "id": "UjHh0DoqPnlL",
    "outputId": "d5a7d6a4-f4ae-4451-b8b9-9ba16edbfd96"
   },
   "outputs": [],
   "source": [
    "# считываем данные\n",
    "qid_query = pd.read_csv(f\"{PATH}/open_task/qid_query.tsv\", sep=\"\\t\", names=[\"qid\", \"query\"])\n",
    "qid_url_rating = pd.read_csv(f\"{PATH}/open_task/qid_url_rating.tsv\", sep=\"\\t\", names=[\"qid\", \"url\", \"rating\"])\n",
    "hostid_url = pd.read_csv(f\"{PATH}/open_task/hostid_url.tsv\", sep=\"\\t\", names=[\"hostid\", \"url\"])\n",
    "\n",
    "# делаем join двух таблиц, чтобы было просто брать url с максимальным рейтингом\n",
    "qid_url_rating_hostid = pd.merge(qid_url_rating, hostid_url, on=\"url\")"
   ]
  },
  {
   "cell_type": "markdown",
   "id": "be9b5447",
   "metadata": {},
   "source": [
    "## Решение Yandex Cup"
   ]
  },
  {
   "cell_type": "code",
   "execution_count": 5,
   "id": "e2fc60f6",
   "metadata": {},
   "outputs": [],
   "source": [
    "def plook(ind, rels):\n",
    "    if ind == 0:\n",
    "        return 1\n",
    "    return plook(ind-1, rels)*(1-rels[ind-1])*(1-0.15)\n",
    "     \n",
    "\n",
    "def pfound(group):\n",
    "    # Максимальный рейтинг хоста\n",
    "    max_by_host = group.groupby(\"hostid\")[\"rating\"].max() \n",
    "    \n",
    "    # Топ-10 хостов с наивысшим рейтингом\n",
    "    top10 = max_by_host.sort_values(ascending=False)[:10] \n",
    "    pfound = 0\n",
    "    for ind, val in enumerate(top10):\n",
    "        pfound += val*plook(ind, top10.values)\n",
    "    return pfound"
   ]
  },
  {
   "cell_type": "code",
   "execution_count": 10,
   "id": "6e92ee51",
   "metadata": {},
   "outputs": [],
   "source": [
    "qid_pfound = qid_url_rating_hostid.groupby('qid').apply(pfound) # Группировка по qid и вычисление pfound\n",
    "qid_max = qid_pfound.idxmax() # qid с максимальным pfound"
   ]
  },
  {
   "cell_type": "code",
   "execution_count": 11,
   "id": "c9182969",
   "metadata": {},
   "outputs": [
    {
     "data": {
      "text/html": [
       "<div>\n",
       "<style scoped>\n",
       "    .dataframe tbody tr th:only-of-type {\n",
       "        vertical-align: middle;\n",
       "    }\n",
       "\n",
       "    .dataframe tbody tr th {\n",
       "        vertical-align: top;\n",
       "    }\n",
       "\n",
       "    .dataframe thead th {\n",
       "        text-align: right;\n",
       "    }\n",
       "</style>\n",
       "<table border=\"1\" class=\"dataframe\">\n",
       "  <thead>\n",
       "    <tr style=\"text-align: right;\">\n",
       "      <th></th>\n",
       "      <th>qid</th>\n",
       "      <th>query</th>\n",
       "    </tr>\n",
       "  </thead>\n",
       "  <tbody>\n",
       "    <tr>\n",
       "      <th>12</th>\n",
       "      <td>295761</td>\n",
       "      <td>гугл переводчик</td>\n",
       "    </tr>\n",
       "  </tbody>\n",
       "</table>\n",
       "</div>"
      ],
      "text/plain": [
       "       qid            query\n",
       "12  295761  гугл переводчик"
      ]
     },
     "execution_count": 11,
     "metadata": {},
     "output_type": "execute_result"
    }
   ],
   "source": [
    "qid_query[qid_query[\"qid\"] == qid_max]"
   ]
  },
  {
   "cell_type": "code",
   "execution_count": 12,
   "id": "351e6862",
   "metadata": {},
   "outputs": [
    {
     "data": {
      "text/plain": [
       "0.4603173929969002"
      ]
     },
     "execution_count": 12,
     "metadata": {},
     "output_type": "execute_result"
    }
   ],
   "source": [
    "# считаем среднее pFound\n",
    "qid_pfound.mean() "
   ]
  },
  {
   "cell_type": "markdown",
   "id": "76777d90",
   "metadata": {},
   "source": [
    "## Решение без цикла"
   ]
  },
  {
   "cell_type": "code",
   "execution_count": 52,
   "id": "2ecc49dd",
   "metadata": {},
   "outputs": [],
   "source": [
    "def pFound(\n",
    "    df: pd.DataFrame,\n",
    "    k: int = 10,\n",
    "    p_break: float = 0.15) -> float:\n",
    "    \n",
    "    # найдем максимально релевантный документ в каждом хосте и отсортируем хосты в каждом запросе по убыванию\n",
    "    qid_hostid_max_rating = df.groupby(['qid', 'hostid'])['rating'].max().reset_index()\n",
    "    sorted_qid = qid_hostid_max_rating.sort_values(['qid', 'rating'], ascending=False)\n",
    "    \n",
    "    # найдем топ-k хостов в каждом запросе\n",
    "    sorted_qid_top_k = sorted_qid.groupby(['qid']).head(k)\n",
    "    \n",
    "    top_k = sorted_qid_top_k.copy()\n",
    "    \n",
    "    # добавим вспомогательные столбцы с промежуточными результатами расчета\n",
    "    top_k['1 - pBreak'] = 1 - p_break\n",
    "    top_k['1 - pRel'] = (1 - top_k['rating']).shift(1)\n",
    "    top_k['sorted_num'] = top_k.groupby('qid').cumcount()\n",
    "    \n",
    "    # изменим первые значения на (1) \n",
    "    top_k.loc[top_k['sorted_num'] == 0, ['1 - pRel', '1 - pBreak']] = 1\n",
    "     \n",
    "    # рассчитаем pLook\n",
    "    top_k['prod'] = top_k['1 - pRel'] * top_k['1 - pBreak']\n",
    "    top_k['pLook'] = top_k.groupby('qid')['prod'].cumprod()\n",
    "    \n",
    "    # найдем значение pFound для каждого host, а затем для qid\n",
    "    top_k['pFound'] = top_k['pLook'] * top_k['rating']\n",
    "    pFound = top_k.groupby('qid')['pFound'].sum()\n",
    "    \n",
    "    return pFound.mean()"
   ]
  },
  {
   "cell_type": "markdown",
   "id": "97951b75",
   "metadata": {},
   "source": [
    "## Анализ результатов"
   ]
  },
  {
   "cell_type": "markdown",
   "id": "68094fa5",
   "metadata": {},
   "source": [
    "Проверим скорость выполнения, а также рассчитанные значения метрики pFound с помощью решения с циклом и без цикла"
   ]
  },
  {
   "cell_type": "code",
   "execution_count": 57,
   "id": "083f7db7",
   "metadata": {},
   "outputs": [
    {
     "name": "stdout",
     "output_type": "stream",
     "text": [
      "14 ms ± 391 µs per loop (mean ± std. dev. of 7 runs, 100 loops each)\n"
     ]
    }
   ],
   "source": [
    "# решение Yandex Cup\n",
    "%timeit qid_pFound = qid_url_rating_hostid.groupby('qid').apply(pfound)"
   ]
  },
  {
   "cell_type": "code",
   "execution_count": 58,
   "id": "dd077a5c",
   "metadata": {},
   "outputs": [
    {
     "data": {
      "text/plain": [
       "0.4603173929969002"
      ]
     },
     "execution_count": 58,
     "metadata": {},
     "output_type": "execute_result"
    }
   ],
   "source": [
    "qid_pFound.mean()"
   ]
  },
  {
   "cell_type": "code",
   "execution_count": 59,
   "id": "e0a4b8e1",
   "metadata": {},
   "outputs": [
    {
     "name": "stdout",
     "output_type": "stream",
     "text": [
      "8.97 ms ± 143 µs per loop (mean ± std. dev. of 7 runs, 100 loops each)\n"
     ]
    }
   ],
   "source": [
    "# решение без цикла\n",
    "%timeit qid_pFound_new = pFound(qid_url_rating_hostid)"
   ]
  },
  {
   "cell_type": "code",
   "execution_count": 60,
   "id": "d8a1aecd",
   "metadata": {},
   "outputs": [
    {
     "data": {
      "text/plain": [
       "0.4603173929969002"
      ]
     },
     "execution_count": 60,
     "metadata": {},
     "output_type": "execute_result"
    }
   ],
   "source": [
    "qid_pFound_new = pFound(qid_url_rating_hostid)\n",
    "qid_pFound_new"
   ]
  },
  {
   "cell_type": "markdown",
   "id": "da468c2e",
   "metadata": {},
   "source": [
    "Можно заметить, что результат обеих функций одинаковый, что свидетельствует о правильности выполнения. Можно заметить, что у способа без циклов (используя возможности pandas) время выполнения ниже. "
   ]
  }
 ],
 "metadata": {
  "colab": {
   "provenance": []
  },
  "kernelspec": {
   "display_name": "Python 3 (ipykernel)",
   "language": "python",
   "name": "python3"
  },
  "language_info": {
   "codemirror_mode": {
    "name": "ipython",
    "version": 3
   },
   "file_extension": ".py",
   "mimetype": "text/x-python",
   "name": "python",
   "nbconvert_exporter": "python",
   "pygments_lexer": "ipython3",
   "version": "3.9.13"
  }
 },
 "nbformat": 4,
 "nbformat_minor": 5
}
